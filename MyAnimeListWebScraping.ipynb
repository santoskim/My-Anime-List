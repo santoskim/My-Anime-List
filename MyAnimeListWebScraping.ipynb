{
 "cells": [
  {
   "cell_type": "code",
   "execution_count": 321,
   "metadata": {},
   "outputs": [],
   "source": [
    "from selenium import webdriver\n",
    "from selenium.webdriver.common.by import By\n",
    "from selenium.webdriver.support.select import Select\n",
    "from selenium.webdriver.support.ui import WebDriverWait\n",
    "from selenium.webdriver.support import expected_conditions as EC\n",
    "import pandas as pd"
   ]
  },
  {
   "cell_type": "code",
   "execution_count": 322,
   "metadata": {},
   "outputs": [],
   "source": [
    "driver = webdriver.Chrome('/Users/kimsantos/Desktop/chromedriver')\n",
    "wait = WebDriverWait(driver, 10)"
   ]
  },
  {
   "cell_type": "code",
   "execution_count": 339,
   "metadata": {},
   "outputs": [],
   "source": [
    "url = driver.get('https://myanimelist.net/anime/15417/Gintama__Enchousen')"
   ]
  },
  {
   "cell_type": "code",
   "execution_count": 372,
   "metadata": {},
   "outputs": [],
   "source": [
    "ranked = wait.until(EC.visibility_of_element_located((By.CSS_SELECTOR, 'span[class*=\"numbers ranked\"]'))).text "
   ]
  },
  {
   "cell_type": "code",
   "execution_count": 373,
   "metadata": {},
   "outputs": [
    {
     "data": {
      "text/plain": [
       "'Ranked #8'"
      ]
     },
     "execution_count": 373,
     "metadata": {},
     "output_type": "execute_result"
    }
   ],
   "source": [
    "ranked"
   ]
  },
  {
   "cell_type": "code",
   "execution_count": null,
   "metadata": {},
   "outputs": [],
   "source": [
    "tbody > tr > td.borderClass > div > div:nth-child(15) > span"
   ]
  },
  {
   "cell_type": "code",
   "execution_count": null,
   "metadata": {},
   "outputs": [],
   "source": [
    "div > div.h1-title > div > h1 > strong"
   ]
  },
  {
   "cell_type": "code",
   "execution_count": 359,
   "metadata": {},
   "outputs": [],
   "source": [
    "title = wait.until(EC.visibility_of_element_located((By.CSS_SELECTOR, 'div[class=\"h1-title\"]'))).text\n",
    "score = wait.until(EC.visibility_of_element_located((By.CSS_SELECTOR, 'div[class*=\"score-label\"]'))).text\n",
    "genres = wait.until(EC.visibility_of_element_located((By.XPATH, '//*[contains(text(), \"Genre\")]/parent::div'))).text\n",
    "anime_type = wait.until(EC.visibility_of_element_located((By.CSS_SELECTOR, 'span[class=\"information type\"]'))).text\n",
    "episode = wait.until(EC.visibility_of_element_located((By.XPATH, '//*[contains(text(), \"Episodes\")]/parent::div'))).text\n",
    "#status = wait.until(EC.visibility_of_element_located((By.CSS_SELECTOR, '#content > table > tbody > tr > td.borderClass > div > div:nth-child(16)'))).text\n",
    "#air = wait.until(EC.visibility_of_element_located((By.XPATH, '//*[@id=\"content\"]/table/tbody/tr/td[1]/div/div[13]'))).text    \n",
    "\n",
    "try:\n",
    "    premier = wait.until(EC.visibility_of_element_located((By.XPATH, '//*[contains(text(), \"Premiered\")]/parent::div'))).text\n",
    "except:\n",
    "    premier = None\n",
    "\n",
    "try:\n",
    "    broadcast = wait.until(EC.visibility_of_element_located((By.XPATH, '//*[contains(text(), \"Broadcast\")]/parent::div'))).text\n",
    "except:\n",
    "    broadcast = None\n",
    "    \n",
    "producer = wait.until(EC.visibility_of_element_located((By.XPATH, '//*[contains(text(), \"Producers\")]/parent::div'))).text \n",
    "licensor = wait.until(EC.visibility_of_element_located((By.XPATH, '//*[contains(text(), \"Licensors\")]/parent::div'))).text\n",
    "studio = wait.until(EC.visibility_of_element_located((By.XPATH, '//*[contains(text(), \"Studios\")]/parent::div'))).text\n",
    "source = wait.until(EC.visibility_of_element_located((By.XPATH, '//*[contains(text(), \"Source\")]/parent::div'))).text\n",
    "duration = wait.until(EC.visibility_of_element_located((By.XPATH, '//*[contains(text(), \"Duration\")]/parent::div'))).text\n",
    "rating = wait.until(EC.visibility_of_element_located((By.XPATH, '//*[contains(text(), \"Rating\")]/parent::div'))).text\n",
    "popularity = wait.until(EC.visibility_of_element_located((By.XPATH, '//*[contains(text(), \"Popularity\")]/parent::div'))).text\n",
    "members = wait.until(EC.visibility_of_element_located((By.CSS_SELECTOR, 'span[class=\"numbers members\"]'))).text\n",
    "#favorite = wait.until(EC.visibility_of_element_located((By.XPATH, '//*[@id=\"content\"]/table/tbody/tr/td[1]/div/div[27]'))).text   \n",
    "ranked = wait.until(EC.visibility_of_element_located((By.CSS_SELECTOR, 'span[class*=\"numbers ranked\"]'))).text \n"
   ]
  },
  {
   "cell_type": "code",
   "execution_count": 374,
   "metadata": {},
   "outputs": [],
   "source": [
    "genres = genres.replace(\"Genres: \", \"\")\n",
    "episode = episode.replace(\"Episodes: \", \"\")\n",
    "status = status.replace(\"Status: \", \"\")\n",
    "air = air.replace(\"Aired: \", \"\")     \n",
    "try:\n",
    "    premier = premier.replace(\"Premiered: \", \"\")\n",
    "except:\n",
    "    premier = None\n",
    "    \n",
    "try:\n",
    "    broadcast = broadcast.replace(\"Broadcast: \", \"\")\n",
    "except:\n",
    "    broadcast = None    \n",
    "producer = producer.replace(\"Producers: \", \"\")\n",
    "licensor = licensor.replace(\"Licensors: \", \"\")\n",
    "studio = studio.replace(\"Studios: \", \"\")\n",
    "source = source.replace(\"Source: \", \"\")\n",
    "duration = duration.replace(\"Duration: \", \"\")\n",
    "rating = rating.replace(\"Rating: \", \"\")\n",
    "popularity = popularity.replace(\"Popularity: #\", \"\")\n",
    "members = members.replace(\"Members \", \"\")\n",
    "favorite = favorite.replace(\"Favorites: \", \"\")\n",
    "ranked = ranked.replace(\"Ranked #\", \"\")"
   ]
  },
  {
   "cell_type": "code",
   "execution_count": null,
   "metadata": {},
   "outputs": [],
   "source": []
  },
  {
   "cell_type": "code",
   "execution_count": null,
   "metadata": {},
   "outputs": [],
   "source": []
  },
  {
   "cell_type": "code",
   "execution_count": 375,
   "metadata": {},
   "outputs": [],
   "source": [
    "my_data = {\"Title\": title, \"Score\": score, \"Genres\": genres, \"Type\": anime_type, \"Episodes\": episode,\n",
    "          \"Status\": status, \"Aired\": air, \"Premiered\": premier, \"Broadcast\": broadcast, \"Producers\": producer,\n",
    "          \"Licensors\": licensor, \"Studios\": studio, \"Source\": source, \"Duration\": duration, \n",
    "          \"Rating\": rating, \"Popularity\": popularity, \"Members\": members, \"Favorites\": favorite,\n",
    "          \"Ranked\": ranked}"
   ]
  },
  {
   "cell_type": "code",
   "execution_count": 376,
   "metadata": {},
   "outputs": [],
   "source": [
    "df = pd.DataFrame(data = my_data, index = [0])"
   ]
  },
  {
   "cell_type": "code",
   "execution_count": 377,
   "metadata": {},
   "outputs": [
    {
     "data": {
      "text/html": [
       "<div>\n",
       "<style scoped>\n",
       "    .dataframe tbody tr th:only-of-type {\n",
       "        vertical-align: middle;\n",
       "    }\n",
       "\n",
       "    .dataframe tbody tr th {\n",
       "        vertical-align: top;\n",
       "    }\n",
       "\n",
       "    .dataframe thead th {\n",
       "        text-align: right;\n",
       "    }\n",
       "</style>\n",
       "<table border=\"1\" class=\"dataframe\">\n",
       "  <thead>\n",
       "    <tr style=\"text-align: right;\">\n",
       "      <th></th>\n",
       "      <th>Title</th>\n",
       "      <th>Score</th>\n",
       "      <th>Genres</th>\n",
       "      <th>Type</th>\n",
       "      <th>Episodes</th>\n",
       "      <th>Status</th>\n",
       "      <th>Aired</th>\n",
       "      <th>Premiered</th>\n",
       "      <th>Broadcast</th>\n",
       "      <th>Producers</th>\n",
       "      <th>Licensors</th>\n",
       "      <th>Studios</th>\n",
       "      <th>Source</th>\n",
       "      <th>Duration</th>\n",
       "      <th>Rating</th>\n",
       "      <th>Popularity</th>\n",
       "      <th>Members</th>\n",
       "      <th>Favorites</th>\n",
       "      <th>Ranked</th>\n",
       "    </tr>\n",
       "  </thead>\n",
       "  <tbody>\n",
       "    <tr>\n",
       "      <th>0</th>\n",
       "      <td>Gintama': Enchousen\\nGintama: Enchousen</td>\n",
       "      <td>9.04</td>\n",
       "      <td>Action, Comedy, Historical, Parody, Samurai, S...</td>\n",
       "      <td>TV</td>\n",
       "      <td>13</td>\n",
       "      <td>Aired: Oct 4, 2012 to Mar 28, 2013</td>\n",
       "      <td>Premiered: Fall 2012</td>\n",
       "      <td>Fall 2012</td>\n",
       "      <td>Thursdays at 18:00 (JST)</td>\n",
       "      <td>TV Tokyo, Aniplex, Dentsu, Shueisha, Miracle Bus</td>\n",
       "      <td>None found, add some</td>\n",
       "      <td>Sunrise</td>\n",
       "      <td>Manga</td>\n",
       "      <td>24 min. per ep.</td>\n",
       "      <td>PG-13 - Teens 13 or older</td>\n",
       "      <td>667</td>\n",
       "      <td>238,554</td>\n",
       "      <td>2,330</td>\n",
       "      <td>8</td>\n",
       "    </tr>\n",
       "  </tbody>\n",
       "</table>\n",
       "</div>"
      ],
      "text/plain": [
       "                                     Title Score  \\\n",
       "0  Gintama': Enchousen\\nGintama: Enchousen  9.04   \n",
       "\n",
       "                                              Genres Type Episodes  \\\n",
       "0  Action, Comedy, Historical, Parody, Samurai, S...   TV       13   \n",
       "\n",
       "                               Status                 Aired  Premiered  \\\n",
       "0  Aired: Oct 4, 2012 to Mar 28, 2013  Premiered: Fall 2012  Fall 2012   \n",
       "\n",
       "                  Broadcast                                         Producers  \\\n",
       "0  Thursdays at 18:00 (JST)  TV Tokyo, Aniplex, Dentsu, Shueisha, Miracle Bus   \n",
       "\n",
       "              Licensors  Studios Source         Duration  \\\n",
       "0  None found, add some  Sunrise  Manga  24 min. per ep.   \n",
       "\n",
       "                      Rating Popularity  Members Favorites Ranked  \n",
       "0  PG-13 - Teens 13 or older        667  238,554     2,330      8  "
      ]
     },
     "execution_count": 377,
     "metadata": {},
     "output_type": "execute_result"
    }
   ],
   "source": [
    "df"
   ]
  },
  {
   "cell_type": "code",
   "execution_count": null,
   "metadata": {},
   "outputs": [],
   "source": []
  },
  {
   "cell_type": "code",
   "execution_count": null,
   "metadata": {},
   "outputs": [],
   "source": []
  },
  {
   "cell_type": "code",
   "execution_count": null,
   "metadata": {},
   "outputs": [],
   "source": []
  },
  {
   "cell_type": "code",
   "execution_count": null,
   "metadata": {},
   "outputs": [],
   "source": []
  }
 ],
 "metadata": {
  "kernelspec": {
   "display_name": "Python 3",
   "language": "python",
   "name": "python3"
  },
  "language_info": {
   "codemirror_mode": {
    "name": "ipython",
    "version": 3
   },
   "file_extension": ".py",
   "mimetype": "text/x-python",
   "name": "python",
   "nbconvert_exporter": "python",
   "pygments_lexer": "ipython3",
   "version": "3.8.5"
  }
 },
 "nbformat": 4,
 "nbformat_minor": 4
}
