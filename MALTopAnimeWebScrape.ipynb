{
 "cells": [
  {
   "cell_type": "markdown",
   "id": "7733f49e-dbb1-41f7-8206-bfd256ff0f4c",
   "metadata": {},
   "source": [
    "# My Anime List Web Scraping 2021\n",
    "### *Kim Santos*\n",
    "\n",
    "<font size ='4' /> This set up shows web scraping in the Top Anime section from My Anime List by using python in JupyterLab. Data will be scraped and then wrangled into a clean data set for future uses. <font/>\n",
    "\n",
    "---\n",
    "\n",
    "## **Set Up**\n",
    "\n",
    "\n",
    "<font size ='4' /> Libraries are imported that necessary to use for web scraping and create dataframes.   <br />\n",
    "**Selenium:** Helps automate web browsers. It will help navigate certain areas on a web page and scrape the data. <br />\n",
    "**Pandas:** Will be used to create a dataframe and then set to a .csv file <br />\n",
    "<font />"
   ]
  },
  {
   "cell_type": "code",
   "execution_count": null,
   "id": "246a2e72-597c-4df2-94b2-63c30f103cf2",
   "metadata": {},
   "outputs": [],
   "source": [
    "from selenium import webdriver\n",
    "from selenium.webdriver.common.by import By\n",
    "from selenium.webdriver.support.select import Select\n",
    "from selenium.webdriver.support.ui import WebDriverWait\n",
    "from selenium.webdriver.support import expected_conditions as EC\n",
    "\n",
    "import pandas as pd"
   ]
  },
  {
   "cell_type": "markdown",
   "id": "1d78f193-3d00-4f50-a845-eb733b7aaee4",
   "metadata": {},
   "source": [
    "## **Web Scraping**\n",
    "\n",
    "<font size = '4'> This section scrapes over 4,000 animes from the 'Top Anime' section in https://myanimelist.net/. The information that will be scraped are the following: **titles, scores, genres, types, episodes, status, aired, premiered, broadcasts, producers, licensors, studios, sources, duration, rating, popularity, members, favorite and rank**. <br />\n",
    "    <br />\n",
    "In order to scrape data, the Selenium library and its executable, ChromeDriver, will be utilized. Selenium is an automated web tool that controls web browsers and it utilizes ChromeDriver to control the Chrome web browser. ChromeDriver is separately installed and can be downloaded through https://chromedriver.chromium.org/, however, it must be the same version as the Chrome browser. Selenium will control Chrome by going through multiple urls and have statements search and store elements of the necessary information we need.\n",
    "<font />"
   ]
  },
  {
   "cell_type": "code",
   "execution_count": null,
   "id": "1b28a5f4-4de6-40b0-986b-bc0daefff9b7",
   "metadata": {},
   "outputs": [],
   "source": [
    "# Variables are defined to locate ChromeDriver in the desktop to control ChromeDriver and define a wait time of 15 seconds\n",
    "# for conditions to load and become visible before moving on to other conditions\n",
    "driver = webdriver.Chrome('/Users/kimochi/Desktop/chromedriver')\n",
    "wait = WebDriverWait(driver, 15)"
   ]
  },
  {
   "cell_type": "markdown",
   "id": "777e6141-61c1-43b9-9589-6966a5fa08ad",
   "metadata": {},
   "source": [
    "<span style=\"background-color: #FFFF00\">  **<font size = '4'>Note**</span>:<font size = '4'> Since this project is collecting over 4,000 data, I believe it is best to web scrape the information in intervals. We would do intervals of gathering 300 animes, and once all of the information is gathered, we move onto the next set of 300 and so forth. This is to ensure the information being collected is stored safely. We do not have to start over in the beginning of the data collection if there were interruptions, and we can start in the beginning of the interval we are currently on."
   ]
  },
  {
   "cell_type": "code",
   "execution_count": null,
   "id": "dd18808c-0b2f-4055-8f40-d84fe4108d35",
   "metadata": {},
   "outputs": [],
   "source": [
    "# a list variable is defined to store anime urls collected from the 'Top Anime' in MAL\n",
    "# The for-loop locates 300 animes in 50 increments. It locates elements that contains their url and store into the list.\n",
    "urls = []\n",
    "for page in range (0, 300, 50):\n",
    "    driver.get('https://myanimelist.net/topanime.php?limit=' + str(page))\n",
    "    url = driver.find_elements(By.CSS_SELECTOR, 'div[class =\"detail\"] h3 a')\n",
    "    for item in url:\n",
    "        urls.append(item.get_attribute('href'))"
   ]
  },
  {
   "cell_type": "code",
   "execution_count": null,
   "id": "241c1fa3-702f-45c8-880a-f2d358159c1c",
   "metadata": {},
   "outputs": [],
   "source": [
    "# List variables are defined for individual variables to be stored once they collected information they are specified to locate\n",
    "titles = [] \n",
    "scores = [] \n",
    "genres = []\n",
    "anime_types = []\n",
    "episodes = []\n",
    "statuses = []\n",
    "aired = []\n",
    "premiered = []\n",
    "broadcasts = []\n",
    "producers = []\n",
    "licensors = []\n",
    "studios = []\n",
    "sources = []\n",
    "durations = []\n",
    "ratings = []\n",
    "popularity = []\n",
    "members = []\n",
    "favorites = []\n",
    "ranks = []"
   ]
  },
  {
   "cell_type": "code",
   "execution_count": null,
   "id": "fa535e3a-6645-49c0-b421-367ac0b8eae6",
   "metadata": {},
   "outputs": [],
   "source": [
    "# For-loop accesses the list variable that contains all the anime urls, and variables are defined to locate the information we need by the visibility of elements.\n",
    "# If no elements are found, the variable(s) will produce a null\n",
    "for anime_url in urls:\n",
    "    driver.get(anime_url)\n",
    "    \n",
    "    title = wait.until(EC.visibility_of_element_located((By.CSS_SELECTOR, 'div[class=\"h1-title\"]'))).text\n",
    "    score = wait.until(EC.visibility_of_element_located((By.CSS_SELECTOR, 'div[class*=\"score-label\"]'))).text\n",
    "    genre = wait.until(EC.visibility_of_element_located((By.XPATH, '//span[contains(text(), \"Genre\")]/parent::div'))).text\n",
    "    anime_type = wait.until(EC.visibility_of_element_located((By.CSS_SELECTOR, 'span[class=\"information type\"]'))).text\n",
    "    episode = wait.until(EC.visibility_of_element_located((By.XPATH, '//span[contains(text(), \"Episodes\")]/parent::div'))).text\n",
    "    status = wait.until(EC.visibility_of_element_located((By.XPATH, '//span[contains(text(), \"Status\")]/parent::div'))).text\n",
    "    air = wait.until(EC.visibility_of_element_located((By.XPATH, '//span[contains(text(), \"Air\")]/parent::div'))).text\n",
    "\n",
    "    try:\n",
    "        premier = wait.until(EC.visibility_of_element_located((By.XPATH, '//span[contains(text(), \"Premiered\")]/parent::div'))).text\n",
    "    except:\n",
    "        premier = None\n",
    "\n",
    "    try:\n",
    "        broadcast = wait.until(EC.visibility_of_element_located((By.XPATH, '//span[contains(text(), \"Broadcast\")]/parent::div'))).text\n",
    "    except:\n",
    "        broadcast = None\n",
    "\n",
    "    producer = wait.until(EC.visibility_of_element_located((By.XPATH, '//span[contains(text(), \"Producers\")]/parent::div'))).text\n",
    "    licensor = wait.until(EC.visibility_of_element_located((By.XPATH, '//span[contains(text(), \"Licensors\")]/parent::div'))).text\n",
    "    studio = wait.until(EC.visibility_of_element_located((By.XPATH, '//span[contains(text(), \"Studios\")]/parent::div'))).text\n",
    "    source = wait.until(EC.visibility_of_element_located((By.XPATH, '//span[contains(text(), \"Source\")]/parent::div'))).text\n",
    "    duration = wait.until(EC.visibility_of_element_located((By.XPATH, '//span[contains(text(), \"Duration\")]/parent::div'))).text\n",
    "    rating = wait.until(EC.visibility_of_element_located((By.XPATH, '//span[contains(text(), \"Rating\")]/parent::div'))).text\n",
    "    pop = wait.until(EC.visibility_of_element_located((By.XPATH, '//span[contains(text(), \"Popularity\")]/parent::div'))).text\n",
    "    member = wait.until(EC.visibility_of_element_located((By.CSS_SELECTOR, 'span[class=\"numbers members\"]'))).text\n",
    "    favorite = wait.until(EC.visibility_of_element_located((By.XPATH, '//span[contains(text(), \"Favorites\")]/parent::div'))).text\n",
    "    rank = wait.until(EC.visibility_of_element_located((By.CSS_SELECTOR, 'span[class*=\"numbers ranked\"]'))).text\n",
    "    \n",
    "\n",
    "# Unecessary strings are removed in the following block after elements are located.\n",
    "    genre = genre.replace(\"Genres: \", \"\")\n",
    "    episode = episode.replace(\"Episodes: \", \"\")\n",
    "    status = status.replace(\"Status: \", \"\")\n",
    "    air = air.replace(\"Aired: \", \"\")     \n",
    "    try:\n",
    "        premier = premier.replace(\"Premiered: \", \"\")\n",
    "    except:\n",
    "        premier = None\n",
    "\n",
    "    try:\n",
    "        broadcast = broadcast.replace(\"Broadcast: \", \"\")\n",
    "    except:\n",
    "        broadcast = None    \n",
    "    producer = producer.replace(\"Producers: \", \"\")\n",
    "    licensor = licensor.replace(\"Licensors: \", \"\")\n",
    "    studio = studio.replace(\"Studios: \", \"\")\n",
    "    source = source.replace(\"Source: \", \"\")\n",
    "    duration = duration.replace(\"Duration: \", \"\")\n",
    "    rating = rating.replace(\"Rating: \", \"\")\n",
    "    pop = pop.replace(\"Popularity: #\", \"\")\n",
    "    member = member.replace(\"Members \", \"\")\n",
    "    favorite = favorite.replace(\"Favorites: \", \"\")\n",
    "    rank = rank.replace(\"Ranked #\", \"\")\n",
    "\n",
    "    \n",
    "# Variables are then stored in their respective lists\n",
    "    titles.append(title)\n",
    "    scores.append(score)\n",
    "    genres.append(genre)\n",
    "    anime_types.append(anime_type)\n",
    "    episodes.append(episode)\n",
    "    statuses.append(status)\n",
    "    aired.append(air)\n",
    "    premiered.append(premier)\n",
    "    broadcasts.append(broadcast)\n",
    "    producers.append(producer)\n",
    "    licensors.append(licensor)\n",
    "    studios.append(studio)\n",
    "    sources.append(source)\n",
    "    durations.append(duration)\n",
    "    ratings.append(rating)\n",
    "    popularity.append(pop)\n",
    "    members.append(member)\n",
    "    favorites.append(favorite)\n",
    "    ranks.append(rank)"
   ]
  },
  {
   "cell_type": "markdown",
   "id": "2f5f53f9-8591-4bb5-88af-0b84d0df5f7b",
   "metadata": {},
   "source": [
    "<font size= '4'> <span style=\"background-color: #FFFF00\"> **Note**</span>: The last three cells are repeated to start the next interval of 300 animes. Once 4,000+ data are collected, the next cell is executed. <font/><br />\n",
    "\n",
    "<font size ='4'> The last few cells creates a dataframe from all the information gathered. Then it will be executed into a .csv file"
   ]
  },
  {
   "cell_type": "code",
   "execution_count": null,
   "id": "693ca82c-49dd-4aa1-ba98-c7e074c63566",
   "metadata": {},
   "outputs": [],
   "source": [
    "# before defining a data frame, we must create column names and assign each column their corresponding list \n",
    "my_data = {\"Title\": titles, \"Score\": scores, \"Genres\": genres, \"Type\": anime_types, \"Episodes\": episodes,\n",
    "          \"Status\": statuses, \"Aired\": aired, \"Premiered\": premiered, \"Broadcast\": broadcasts, \"Producers\": producers,\n",
    "          \"Licensors\": licensors, \"Studios\": studios, \"Source\": sources, \"Duration\": durations, \n",
    "          \"Rating\": ratings, \"Popularity\": popularity, \"Members\": members, \"Favorites\": favorites,\n",
    "          \"Ranked\": ranks}"
   ]
  },
  {
   "cell_type": "code",
   "execution_count": null,
   "id": "5650d925-df8a-4d2d-9016-1dc70fbaae78",
   "metadata": {},
   "outputs": [],
   "source": [
    "#data frame created\n",
    "df = pd.DataFrame(data = my_data)"
   ]
  },
  {
   "cell_type": "code",
   "execution_count": null,
   "id": "aa478466-b66a-4408-bd10-b2b50684a060",
   "metadata": {},
   "outputs": [],
   "source": [
    "# saving dataframe into a .csv file\n",
    "df.to_csv('4K Anime.csv')"
   ]
  },
  {
   "cell_type": "code",
   "execution_count": null,
   "id": "13e09934-d460-49cb-81d7-ce74478131b7",
   "metadata": {},
   "outputs": [],
   "source": [
    "# quit ChromeDriver as it is no longer needed\n",
    "driver.quit()"
   ]
  }
 ],
 "metadata": {
  "kernelspec": {
   "display_name": "Python 3",
   "language": "python",
   "name": "python3"
  },
  "language_info": {
   "codemirror_mode": {
    "name": "ipython",
    "version": 3
   },
   "file_extension": ".py",
   "mimetype": "text/x-python",
   "name": "python",
   "nbconvert_exporter": "python",
   "pygments_lexer": "ipython3",
   "version": "3.8.8"
  }
 },
 "nbformat": 4,
 "nbformat_minor": 5
}
